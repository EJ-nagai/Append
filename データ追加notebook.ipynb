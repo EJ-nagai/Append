{
 "cells": [
  {
   "cell_type": "markdown",
   "id": "f861e74b",
   "metadata": {
    "papermill": {
     "duration": 0.010073,
     "end_time": "2022-01-12T10:45:10.524528",
     "exception": false,
     "start_time": "2022-01-12T10:45:10.514455",
     "status": "completed"
    },
    "tags": []
   },
   "source": [
    "## 既存のレイヤーにデータを追加する\n"
   ]
  },
  {
   "cell_type": "markdown",
   "id": "83853e54",
   "metadata": {
    "papermill": {
     "duration": 0.009754,
     "end_time": "2022-01-12T10:45:10.54363",
     "exception": false,
     "start_time": "2022-01-12T10:45:10.533876",
     "status": "completed"
    },
    "tags": []
   },
   "source": [
    "#### 各種パッケージのインポート"
   ]
  },
  {
   "cell_type": "code",
   "execution_count": null,
   "id": "68638687",
   "metadata": {
    "execution": {
     "iopub.execute_input": "2022-01-12T10:45:10.567791Z",
     "iopub.status.busy": "2022-01-12T10:45:10.567018Z",
     "iopub.status.idle": "2022-01-12T10:45:15.436372Z",
     "shell.execute_reply": "2022-01-12T10:45:15.436739Z"
    },
    "papermill": {
     "duration": 4.883733,
     "end_time": "2022-01-12T10:45:15.436911",
     "exception": false,
     "start_time": "2022-01-12T10:45:10.553178",
     "status": "completed"
    },
    "tags": []
   },
   "outputs": [],
   "source": [
    "# パッケージ等 import 処理\n",
    "import urllib.request\n",
    "from arcgis.gis import GIS\n",
    "\n",
    "import pandas as pd\n",
    "from datetime import datetime as dt\n",
    "\n",
    "import pytz"
   ]
  },
  {
   "cell_type": "markdown",
   "id": "aff9bddb",
   "metadata": {
    "papermill": {
     "duration": 0.009493,
     "end_time": "2022-01-12T10:45:15.456373",
     "exception": false,
     "start_time": "2022-01-12T10:45:15.44688",
     "status": "completed"
    },
    "tags": []
   },
   "source": [
    "#### ArcGIS Online にログイン\n"
   ]
  },
  {
   "cell_type": "code",
   "execution_count": null,
   "id": "53ee29de",
   "metadata": {},
   "outputs": [],
   "source": [
    "user_name = \"ユーザー名を入力\"\n",
    "user_pass = \"パスワードを入力\" "
   ]
  },
  {
   "cell_type": "code",
   "execution_count": null,
   "id": "7a44c3fb",
   "metadata": {
    "execution": {
     "iopub.execute_input": "2022-01-12T10:45:15.480257Z",
     "iopub.status.busy": "2022-01-12T10:45:15.47954Z",
     "iopub.status.idle": "2022-01-12T10:45:16.124203Z",
     "shell.execute_reply": "2022-01-12T10:45:16.124543Z"
    },
    "papermill": {
     "duration": 0.658554,
     "end_time": "2022-01-12T10:45:16.124693",
     "exception": false,
     "start_time": "2022-01-12T10:45:15.466139",
     "status": "completed"
    },
    "tags": []
   },
   "outputs": [],
   "source": [
    "# ArcGIS Onlineにログイン\n",
    "gis = GIS(username=user_name,password=user_pass)"
   ]
  },
  {
   "cell_type": "markdown",
   "id": "fddc3f07",
   "metadata": {
    "papermill": {
     "duration": 0.009616,
     "end_time": "2022-01-12T10:45:16.144226",
     "exception": false,
     "start_time": "2022-01-12T10:45:16.13461",
     "status": "completed"
    },
    "tags": []
   },
   "source": [
    "#### 追加データのクレンジング"
   ]
  },
  {
   "cell_type": "code",
   "execution_count": null,
   "id": "69596bc6",
   "metadata": {
    "execution": {
     "iopub.execute_input": "2022-01-12T10:45:16.168188Z",
     "iopub.status.busy": "2022-01-12T10:45:16.167445Z",
     "iopub.status.idle": "2022-01-12T10:45:16.185806Z",
     "shell.execute_reply": "2022-01-12T10:45:16.185413Z"
    },
    "papermill": {
     "duration": 0.032307,
     "end_time": "2022-01-12T10:45:16.185931",
     "exception": false,
     "start_time": "2022-01-12T10:45:16.153624",
     "status": "completed"
    },
    "tags": []
   },
   "outputs": [],
   "source": [
    "# 登録用の日時を取得する\n",
    "now_datetime = dt.now(pytz.timezone('Asia/Tokyo'))\n",
    "now = now_datetime.strftime(\"%Y%m%d_%H%M\")\n",
    "\n",
    "now"
   ]
  },
  {
   "cell_type": "code",
   "execution_count": null,
   "id": "bf76983d",
   "metadata": {
    "execution": {
     "iopub.execute_input": "2022-01-12T10:45:16.211098Z",
     "iopub.status.busy": "2022-01-12T10:45:16.210553Z",
     "iopub.status.idle": "2022-01-12T10:45:16.529737Z",
     "shell.execute_reply": "2022-01-12T10:45:16.529296Z"
    },
    "papermill": {
     "duration": 0.333747,
     "end_time": "2022-01-12T10:45:16.529858",
     "exception": false,
     "start_time": "2022-01-12T10:45:16.196111",
     "status": "completed"
    },
    "tags": []
   },
   "outputs": [],
   "source": [
    "# 準備していた座標結合用のデータを取得する\n",
    "amedas_location = pd.read_csv('/arcgis/home/アメダス座標一覧.csv')\n",
    "\n",
    "# 気象庁からアメダスの 1 時間ごとのデータをダウンロード\n",
    "# ファイル名に上記で取得した日時を利用する\n",
    "url = \"https://www.data.jma.go.jp/obd/stats/data/mdrr/pre_rct/alltable/pre1h00_rct.csv\"\n",
    "dataFile = \"/arcgis/home/\" + now + \".csv\"\n",
    "urllib.request.urlretrieve(url, dataFile)\n",
    "\n",
    "# ダウンロードしたファイルから、観測所番号と降雨量の現在値のみ取得\n",
    "amedasdata = pd.read_csv(dataFile, encoding = \"shift-jis\", usecols=[\"観測所番号\", \"現在値(mm)\"])\n",
    "\n",
    "# 降雨量が 1mm より多いデータのみ抽出しつつ、座標結合用のファイルと結合する\n",
    "result=pd.merge(amedas_location,amedasdata[amedasdata['現在値(mm)'] > 1], on='観測所番号', how=\"inner\")\n",
    "\n",
    "# 結合結果に対して、取得日時の列を追加する\n",
    "result[\"取得日時\"] = now_datetime.strftime(\"%Y/%m/%d %H:%M:%S\")"
   ]
  },
  {
   "cell_type": "code",
   "execution_count": null,
   "id": "43391db5",
   "metadata": {
    "execution": {
     "iopub.execute_input": "2022-01-12T10:45:16.556145Z",
     "iopub.status.busy": "2022-01-12T10:45:16.555656Z",
     "iopub.status.idle": "2022-01-12T10:45:16.561251Z",
     "shell.execute_reply": "2022-01-12T10:45:16.561948Z"
    },
    "papermill": {
     "duration": 0.022273,
     "end_time": "2022-01-12T10:45:16.562086",
     "exception": false,
     "start_time": "2022-01-12T10:45:16.539813",
     "status": "completed"
    },
    "scrolled": true,
    "tags": []
   },
   "outputs": [],
   "source": [
    "# 追加用 CSV を出力する(ダウンロードしたファイルに上書き)\n",
    "amedasCSV = ('/arcgis/home/' + now +'.csv')\n",
    "result.to_csv(amedasCSV)"
   ]
  },
  {
   "cell_type": "code",
   "execution_count": null,
   "id": "8051ca62",
   "metadata": {
    "execution": {
     "iopub.execute_input": "2022-01-12T10:45:16.604574Z",
     "iopub.status.busy": "2022-01-12T10:45:16.603864Z",
     "iopub.status.idle": "2022-01-12T10:45:17.541107Z",
     "shell.execute_reply": "2022-01-12T10:45:17.54144Z"
    },
    "papermill": {
     "duration": 0.951345,
     "end_time": "2022-01-12T10:45:17.541594",
     "exception": false,
     "start_time": "2022-01-12T10:45:16.590249",
     "status": "completed"
    },
    "scrolled": true,
    "tags": []
   },
   "outputs": [],
   "source": [
    "# CSV ファイルを GIS ポータルのアイテムとしてアップロード\n",
    "title = \"appendData\"+ now\n",
    "tags = \"アメダス\"\n",
    "itemtype = \"CSV\"\n",
    "item_props = {\"type\":itemtype,\"tags\":tags,\"title\":title}\n",
    "\n",
    "append_CSV = gis.content.add(item_properties = item_props, data = amedasCSV)\n",
    "append_CSV"
   ]
  },
  {
   "cell_type": "markdown",
   "id": "84d15352",
   "metadata": {
    "papermill": {
     "duration": 0.009733,
     "end_time": "2022-01-12T10:45:17.561758",
     "exception": false,
     "start_time": "2022-01-12T10:45:17.552025",
     "status": "completed"
    },
    "tags": []
   },
   "source": [
    "#### 更新対象のレイヤーを取得する"
   ]
  },
  {
   "cell_type": "code",
   "execution_count": null,
   "id": "e6a96230",
   "metadata": {
    "execution": {
     "iopub.execute_input": "2022-01-12T10:45:17.585628Z",
     "iopub.status.busy": "2022-01-12T10:45:17.585185Z",
     "iopub.status.idle": "2022-01-12T10:45:17.826392Z",
     "shell.execute_reply": "2022-01-12T10:45:17.826736Z"
    },
    "papermill": {
     "duration": 0.255594,
     "end_time": "2022-01-12T10:45:17.826889",
     "exception": false,
     "start_time": "2022-01-12T10:45:17.571295",
     "status": "completed"
    },
    "tags": []
   },
   "outputs": [],
   "source": [
    "# アイテム ID を利用してレイヤーを検索\n",
    "itemID = \"アイテム ID を入力\"\n",
    "\n",
    "layer = gis.content.search(query=\"id:\" + itemID)[0]\n",
    "layer"
   ]
  },
  {
   "cell_type": "code",
   "execution_count": null,
   "id": "3ce2a545",
   "metadata": {},
   "outputs": [],
   "source": [
    "# データを追加する FeatureLayer クラスのインスタンスを取得\n",
    "fl = layer.layers[0]\n",
    "fl"
   ]
  },
  {
   "cell_type": "markdown",
   "id": "94a478f5",
   "metadata": {
    "papermill": {
     "duration": 0.01095,
     "end_time": "2022-01-12T10:45:18.353047",
     "exception": false,
     "start_time": "2022-01-12T10:45:18.342097",
     "status": "completed"
    },
    "tags": []
   },
   "source": [
    "#### 追加処理の実行"
   ]
  },
  {
   "cell_type": "code",
   "execution_count": null,
   "id": "3062e291",
   "metadata": {
    "execution": {
     "iopub.execute_input": "2022-01-12T10:45:18.378923Z",
     "iopub.status.busy": "2022-01-12T10:45:18.378437Z",
     "iopub.status.idle": "2022-01-12T10:45:21.24823Z",
     "shell.execute_reply": "2022-01-12T10:45:21.248573Z"
    },
    "papermill": {
     "duration": 2.885174,
     "end_time": "2022-01-12T10:45:21.248724",
     "exception": false,
     "start_time": "2022-01-12T10:45:18.36355",
     "status": "completed"
    },
    "tags": []
   },
   "outputs": [],
   "source": [
    "# append メソッドを実行する\n",
    "fl.append(\n",
    "    item_id = append_CSV.id,\n",
    "    upload_format=\"csv\",\n",
    "    upsert=False,\n",
    "    source_info =gis.content.analyze(item = append_CSV.id)['publishParameters']\n",
    ")"
   ]
  },
  {
   "cell_type": "code",
   "execution_count": null,
   "id": "0fc3236c",
   "metadata": {},
   "outputs": [],
   "source": []
  }
 ],
 "metadata": {
  "esriNotebookRuntime": {
   "notebookRuntimeName": "ArcGIS Notebook Python 3 Advanced",
   "notebookRuntimeVersion": "4.0"
  },
  "kernelspec": {
   "display_name": "Python 3",
   "language": "python",
   "name": "python3"
  },
  "language_info": {
   "codemirror_mode": {
    "name": "ipython",
    "version": 3
   },
   "file_extension": ".py",
   "mimetype": "text/x-python",
   "name": "python",
   "nbconvert_exporter": "python",
   "pygments_lexer": "ipython3",
   "version": "3.7.11"
  },
  "papermill": {
   "default_parameters": {},
   "duration": 17.261097,
   "end_time": "2022-01-12T10:45:26.860018",
   "environment_variables": {},
   "exception": null,
   "input_path": "/arcgis/home/.tasks/c8c04b93d2ac478aa74fc2d0c80d6285/d841ac98d20444e6abbd2a6bdeaebf65.ipynb",
   "output_path": "/arcgis/home/.tasks/c8c04b93d2ac478aa74fc2d0c80d6285/output.ipynb",
   "start_time": "2022-01-12T10:45:09.598921",
   "version": "2.3.3"
  }
 },
 "nbformat": 4,
 "nbformat_minor": 5
}
